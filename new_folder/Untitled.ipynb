{
 "cells": [
  {
   "cell_type": "markdown",
   "id": "b6261c9e-3971-47f5-bd15-967700cb12fc",
   "metadata": {},
   "source": [
    "smth new"
   ]
  },
  {
   "cell_type": "code",
   "execution_count": 1,
   "id": "b7a974d1-b715-4ddd-9fa8-e26fd76f9c83",
   "metadata": {},
   "outputs": [
    {
     "name": "stdout",
     "output_type": "stream",
     "text": [
      "Hello, world!\n"
     ]
    }
   ],
   "source": [
    "print(\"Hello, world!\")"
   ]
  },
  {
   "cell_type": "code",
   "execution_count": null,
   "id": "09551d6b-d7e8-4093-b4c2-2a066cab6f50",
   "metadata": {},
   "outputs": [],
   "source": []
  }
 ],
 "metadata": {
  "kernelspec": {
   "display_name": "Python 3 (ipykernel)",
   "language": "python",
   "name": "python3"
  },
  "language_info": {
   "codemirror_mode": {
    "name": "ipython",
    "version": 3
   },
   "file_extension": ".py",
   "mimetype": "text/x-python",
   "name": "python",
   "nbconvert_exporter": "python",
   "pygments_lexer": "ipython3",
   "version": "3.10.8"
  }
 },
 "nbformat": 4,
 "nbformat_minor": 5
}
